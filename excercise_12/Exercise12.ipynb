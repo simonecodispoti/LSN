{
 "cells": [
  {
   "cell_type": "markdown",
   "metadata": {},
   "source": [
    "# LSN Exercise 12"
   ]
  },
  {
   "cell_type": "markdown",
   "metadata": {},
   "source": [
    "In this Python-numerical exercise we will explore the potentiality of **Deep Neural Networks (DNN)** and **Convolutional Neural Networks (CNN)** in performing **image recognition**. In particular, we consider a **classification problem** for a set of handwritten digit (0-9 numbers) images."
   ]
  },
  {
   "cell_type": "code",
   "execution_count": 1,
   "metadata": {},
   "outputs": [],
   "source": [
    "# Settings and libraries:\n",
    "\n",
    "import numpy as np\n",
    "import matplotlib.pyplot as plt\n",
    "from mpl_toolkits.mplot3d import Axes3D\n",
    "\n",
    "import matplotlib as mpl\n",
    "mpl.rcParams['axes.titlesize'] = 12\n",
    "mpl.rcParams['axes.labelsize'] = 16\n",
    "mpl.rcParams['legend.fontsize'] = 14\n",
    "mpl.rcParams['lines.linewidth'] = 2\n",
    "mpl.rcParams['xtick.labelsize'] = 12\n",
    "mpl.rcParams['ytick.labelsize'] = 12\n",
    "mpl.rcParams['axes.spines.right'] = False\n",
    "mpl.rcParams['axes.spines.top'] = False\n",
    "SCALE = 8\n",
    "FIG_SIZE = (SCALE*0.5*(1+np.sqrt(5)),SCALE)\n",
    "\n",
    "# Machine Learning libraries:\n",
    "\n",
    "import tensorflow as tf\n",
    "from tensorflow import keras\n",
    "\n",
    "# Initialize RandomGen:\n",
    "\n",
    "seed = 0 \n",
    "np.random.seed(seed)\n",
    "tf.random.set_seed(seed)"
   ]
  },
  {
   "cell_type": "markdown",
   "metadata": {},
   "source": [
    "## 12.0 Problem setting and contextualization\n",
    "\n",
    "**This section is only a reworking of the *assignement 12* (with some comments)!!!**"
   ]
  },
  {
   "cell_type": "markdown",
   "metadata": {},
   "source": [
    "#### Step 1: Load and Process the Data\n",
    "\n",
    "Keras can conveniently download the **MNIST data** from the web. The **MNIST dataset** comprises $70000$ handwritten digits, each of which comes in a square image, divided into a $28\\times 28$ pixel grid. Every pixel can take on $256$ gradation of the gray color, interpolating between white and black, and hence each data point assumes any value in the set $\\{0,1,\\dots,255\\}$. \n",
    "\n",
    "To use the MNIST dataset, import the `mnist` module and use the `load_data()` class.\n",
    "\n",
    "The MNIST set has pre-defined test and training sets, in order to facilitate the comparison of the performance of different models on the data."
   ]
  },
  {
   "cell_type": "code",
   "execution_count": 2,
   "metadata": {},
   "outputs": [
    {
     "name": "stdout",
     "output_type": "stream",
     "text": [
      "\n",
      "X_train shape: (60000, 28, 28)\n",
      "Y_train shape: (60000,)\n",
      "\n",
      "60000 train samples\n",
      "10000 test samples\n"
     ]
    }
   ],
   "source": [
    "from tensorflow.keras.datasets import mnist\n",
    "\n",
    "# input image dimensions (28 x 28)\n",
    "img_rows, img_cols = 28, 28\n",
    "\n",
    "# output (10 digits)\n",
    "num_classes = 10\n",
    "\n",
    "# Training data set and validation data set:\n",
    "(X_train, Y_train), (X_test, Y_test) = mnist.load_data()\n",
    "print()\n",
    "\n",
    "print('X_train shape:', X_train.shape)\n",
    "print('Y_train shape:', Y_train.shape)\n",
    "print()\n",
    "print(X_train.shape[0], 'train samples')\n",
    "print(X_test.shape[0], 'test samples')"
   ]
  },
  {
   "cell_type": "markdown",
   "metadata": {},
   "source": [
    "Once we have loaded the data, we need to format it in the correct shape. We adopt a 1D vector representation:"
   ]
  },
  {
   "cell_type": "code",
   "execution_count": 3,
   "metadata": {},
   "outputs": [
    {
     "name": "stdout",
     "output_type": "stream",
     "text": [
      "an example of a data point with label 4\n"
     ]
    },
    {
     "data": {
      "image/png": "[encoded data removed]",
      "text/plain": [
       "<Figure size 288x288 with 1 Axes>"
      ]
     },
     "metadata": {
      "needs_background": "light"
     },
     "output_type": "display_data"
    },
    {
     "name": "stdout",
     "output_type": "stream",
     "text": [
      "an example of a data point with label 4 before to_categorical ...\n",
      "... and with label [0. 0. 0. 0. 1. 0. 0. 0. 0. 0.] after to_categorical\n",
      "\n",
      "X_train shape: (60000, 784)\n",
      "Y_train shape: (60000, 10)\n"
     ]
    }
   ],
   "source": [
    "# reshape data to a 1D vector of img_rows x img_cols components:\n",
    "X_train = X_train.reshape(X_train.shape[0], img_rows*img_cols)\n",
    "X_test = X_test.reshape(X_test.shape[0], img_rows*img_cols)\n",
    "\n",
    "# cast floats to single precision:\n",
    "X_train = X_train.astype('float32')\n",
    "X_test = X_test.astype('float32')\n",
    "\n",
    "# rescale data in interval [0,1] ---> the gray scale is mapped from [0,255] to [0,1]\n",
    "X_train /= 255\n",
    "X_test /= 255\n",
    "\n",
    "# look at an example of data point using 'matshow', displaying a matrix in a new window:\n",
    "print('an example of a data point with label', Y_train[20])\n",
    "plt.matshow(X_train[20,:].reshape(28,28),cmap='binary')\n",
    "plt.show()\n",
    "\n",
    "# convert class vectors to binary class matrices, e.g. for use with categorical_crossentropy: \n",
    "print('an example of a data point with label', Y_train[20], 'before to_categorical ...')\n",
    "Y_train = keras.utils.to_categorical(Y_train, num_classes)\n",
    "Y_test = keras.utils.to_categorical(Y_test, num_classes)\n",
    "print('... and with label', Y_train[20], 'after to_categorical')\n",
    "print()\n",
    "print('X_train shape:', X_train.shape)\n",
    "print('Y_train shape:', Y_train.shape)"
   ]
  },
  {
   "cell_type": "markdown",
   "metadata": {},
   "source": [
    "#### Step 2: Define the Neural Net and its Architecture\n",
    "\n",
    "We can now move on to construct our deep neural net. We shall use Keras's `Sequential()` class to instantiate a model, and will add different deep layers one by one using the `add()` method\n",
    "\n",
    "For the purposes of our example, it suffices to focus on `Dense` layers for simplicity. Every `Dense()` layer accepts as its first required argument an integer which specifies the number of neurons. The type of activation function for the layer is defined using the `activation` optional argument, the input of which is the name of the activation function in `string` format. Examples include `relu`, `tanh`, `elu`, `sigmoid`, `softmax`. \n",
    "\n",
    "In order for our DNN to work properly, we have to make sure that the numbers of input and output neurons for each layer match. Therefore, we specify the shape of the input in the first layer of the model explicitly using the optional argument `input_shape=(N_features,)`. The sequential construction of the model then allows Keras to infer the correct input/output dimensions of all hidden layers automatically. Hence, we only need to specify the size of the softmax output layer to match the number of categories."
   ]
  },
  {
   "cell_type": "code",
   "execution_count": 4,
   "metadata": {},
   "outputs": [],
   "source": [
    "from tensorflow.keras.models import Sequential\n",
    "from tensorflow.keras.layers import Dense, Dropout\n",
    "\n",
    "def create_DNN():\n",
    "    # instantiate a sequential model:\n",
    "    model = Sequential()\n",
    "    # add a dense all-to-all relu layer, specifying the input shape:\n",
    "    model.add(Dense(400, input_shape=(img_rows*img_cols,), activation='relu'))\n",
    "    # add a dense all-to-all relu layer:\n",
    "    model.add(Dense(100, activation='relu'))\n",
    "    # apply dropout with a rate of 0.5, in order to improve generalization:\n",
    "    model.add(Dropout(0.5))\n",
    "    # add a soft-max layer to normalize the output in a suitable pdf:\n",
    "    model.add(Dense(num_classes, activation='softmax'))\n",
    "    \n",
    "    return model"
   ]
  },
  {
   "cell_type": "markdown",
   "metadata": {},
   "source": [
    "#### Step 3: Choose the Optimizer and the Cost Function\n",
    "\n",
    "Next, we choose the loss function according to which to train the DNN. For classification problems, this is the cross entropy, and since the output data was cast in categorical form, we choose the `categorical_crossentropy` defined in Keras' `losses` module. Depending on the problem of interest one can pick any other suitable loss function. To optimize the weights of the net, we choose SGD. This algorithm is already available to use under Keras' `optimizers` module, but we could use any other built-in one as well. The parameters for the optimizer, such as `lr` (learning rate) or `momentum` are passed using the corresponding optional arguments of the `SGD()` function. All available arguments can be found in Keras' online documentation at [https://keras.io/](https://keras.io/). While the loss function and the optimizer are essential for the training procedure, to test the performance of the model one may want to look at a particular `metric` of performance. For instance, in categorical tasks one typically looks at their `accuracy`, which is defined as the percentage of correctly classified data points. To complete the definition of our model, we use the `compile()` method, with optional arguments for the `optimizer`, `loss`, and the validation `metric` as follows:"
   ]
  },
  {
   "cell_type": "code",
   "execution_count": 5,
   "metadata": {},
   "outputs": [],
   "source": [
    "# Different optimizers:\n",
    "from tensorflow.keras.optimizers import SGD, Adam, RMSprop, Adagrad, Adadelta, Adamax, Nadam\n",
    "# Fixed loss for a classification problem:\n",
    "from tensorflow.keras.losses import categorical_crossentropy\n",
    "\n",
    "def compile_model():\n",
    "    # create the model\n",
    "    model=create_DNN()\n",
    "    # compile the model\n",
    "    model.compile(loss=categorical_crossentropy,\n",
    "                  optimizer=SGD(),\n",
    "                  metrics=['accuracy'])\n",
    "    return model"
   ]
  },
  {
   "cell_type": "markdown",
   "metadata": {},
   "source": [
    "#### Step 4: Train the model\n",
    "\n",
    "We train our DNN in minibatches. \n",
    "\n",
    "Shuffling the training data during training improves stability of the model. Thus, we train over a number of training epochs. Each epoch corresponds to using **all the train data** divided in minibatches.\n",
    "\n",
    "Training the DNN is a one-liner using the `fit()` method of the `Sequential` class. The first two required arguments are the training input and output data. As optional arguments, we specify the mini-`batch_size`, the number of training `epochs`, and the test or `validation_data`. To monitor the training procedure for every epoch, we set `verbose=True`. "
   ]
  },
  {
   "cell_type": "code",
   "execution_count": 6,
   "metadata": {},
   "outputs": [
    {
     "name": "stdout",
     "output_type": "stream",
     "text": [
      "Epoch 1/5\n",
      "1875/1875 [==============================] - 9s 5ms/step - loss: 0.7280 - accuracy: 0.7886 - val_loss: 0.3029 - val_accuracy: 0.9175\n",
      "Epoch 2/5\n",
      "1875/1875 [==============================] - 9s 5ms/step - loss: 0.3727 - accuracy: 0.8942 - val_loss: 0.2341 - val_accuracy: 0.9326\n",
      "Epoch 3/5\n",
      "1875/1875 [==============================] - 10s 5ms/step - loss: 0.3016 - accuracy: 0.9159 - val_loss: 0.1969 - val_accuracy: 0.9421\n",
      "Epoch 4/5\n",
      "1875/1875 [==============================] - 8s 4ms/step - loss: 0.2598 - accuracy: 0.9277 - val_loss: 0.1722 - val_accuracy: 0.9475\n",
      "Epoch 5/5\n",
      "1875/1875 [==============================] - 8s 4ms/step - loss: 0.2301 - accuracy: 0.9352 - val_loss: 0.1572 - val_accuracy: 0.9500\n"
     ]
    }
   ],
   "source": [
    "# training parameters:\n",
    "batch = 32\n",
    "n_epochs = 5\n",
    "\n",
    "# create the DNN:\n",
    "model_DNN = compile_model()\n",
    "\n",
    "# train the DNN and store training info in history: \n",
    "history = model_DNN.fit(X_train, Y_train,\n",
    "          batch_size=batch, epochs=n_epochs,\n",
    "          validation_data=(X_test, Y_test),\n",
    "          verbose=1)"
   ]
  },
  {
   "cell_type": "markdown",
   "metadata": {},
   "source": [
    "#### Step 5: Evaluate the Model Performance on the *Unseen* Test Data\n",
    "\n",
    "Next, we evaluate the model and read of the loss on the test data, and its accuracy using the `evaluate()` method."
   ]
  },
  {
   "cell_type": "code",
   "execution_count": 7,
   "metadata": {},
   "outputs": [
    {
     "name": "stdout",
     "output_type": "stream",
     "text": [
      "313/313 [==============================] - 1s 4ms/step - loss: 0.1572 - accuracy: 0.9500\n",
      "\n",
      "Test loss: 0.15715542435646057\n",
      "Test accuracy: 0.949999988079071\n"
     ]
    },
    {
     "data": {
      "text/plain": [
       "<matplotlib.legend.Legend at 0x7f77781fe150>"
      ]
     },
     "execution_count": 7,
     "metadata": {},
     "output_type": "execute_result"
    },
    {
     "data": {
      "image/png": "[encoded data removed]",
      "text/plain": [
       "<Figure size 931.988x576 with 2 Axes>"
      ]
     },
     "metadata": {
      "needs_background": "light"
     },
     "output_type": "display_data"
    }
   ],
   "source": [
    "# evaluate teh goodness of the model:\n",
    "score = model_DNN.evaluate(X_test, Y_test, verbose=1)\n",
    "\n",
    "# print performances: \n",
    "print()\n",
    "print('Test loss:', score[0])\n",
    "print('Test accuracy:', score[1])\n",
    "\n",
    "# look into training history for accuracy and losses:\n",
    "\n",
    "fig, ((acc),(loss)) = plt.subplots(1,2, figsize=FIG_SIZE)\n",
    "fig.suptitle(\"Training history\", fontsize=22)\n",
    "\n",
    "acc.plot(history.history['accuracy'])\n",
    "acc.plot(history.history['val_accuracy'])\n",
    "acc.set_ylabel('model accuracy')\n",
    "acc.set_xlabel('epoch')\n",
    "acc.legend(['train', 'test'], loc='best')\n",
    "\n",
    "loss.plot(history.history['loss'])\n",
    "loss.plot(history.history['val_loss'])\n",
    "loss.set_ylabel('model loss')\n",
    "loss.set_xlabel('epoch')\n",
    "loss.legend(['train', 'test'], loc='best')"
   ]
  },
  {
   "cell_type": "markdown",
   "metadata": {},
   "source": [
    "*Dropout, during training, slices off some artificial neurons, thus training accuracy suffers*.\n",
    "\n",
    "*Dropout, during testing, turns itself off and allows all of the ‘weak classifiers’ in the neural network to be used. Thus, testing accuracy improves with respect to training accuracy*."
   ]
  },
  {
   "cell_type": "markdown",
   "metadata": {},
   "source": [
    "#### Step 6: Make predictions based on your model\n",
    "\n",
    "Using the test data set previously generated and reshaped, we test the ability of our DNN to predict a new handwritten digit: "
   ]
  },
  {
   "cell_type": "code",
   "execution_count": 8,
   "metadata": {},
   "outputs": [
    {
     "data": {
      "image/png": "[encoded data removed]",
      "text/plain": [
       "<Figure size 1080x1080 with 10 Axes>"
      ]
     },
     "metadata": {
      "needs_background": "light"
     },
     "output_type": "display_data"
    }
   ],
   "source": [
    "predictions = model_DNN.predict(X_test)\n",
    "\n",
    "X_test = X_test.reshape(X_test.shape[0], img_rows, img_cols, 1)\n",
    "\n",
    "plt.figure(figsize=(15, 15)) \n",
    "for i in range(10):    \n",
    "    ax = plt.subplot(2, 10, i + 1)    \n",
    "    plt.imshow(X_test[i, :, :, 0], cmap='gray')    \n",
    "    plt.title(\"Digit: {}\\nPredicted: {}\".format(np.argmax(Y_test[i]), np.argmax(predictions[i])))    \n",
    "    plt.axis('off') \n",
    "plt.show()"
   ]
  },
  {
   "cell_type": "markdown",
   "metadata": {},
   "source": [
    "*The results are optimal because the test data set has the same overall features of the training one! The DNN has not yet been subjected to handwritings dissimilar to the training ones!*"
   ]
  },
  {
   "cell_type": "markdown",
   "metadata": {},
   "source": [
    "## 12.1 The importance of optimizers"
   ]
  },
  {
   "cell_type": "markdown",
   "metadata": {},
   "source": [
    "Keeping the same DNN structure and measuring losses through `categorical_crossentropy`, we try to use different optimization algorithms to search for the optimal weights of the network. To make comparisons, we adopt the same training and validation data set and we read performances using the `evaluate()` method:"
   ]
  },
  {
   "cell_type": "code",
   "execution_count": 9,
   "metadata": {},
   "outputs": [
    {
     "name": "stdout",
     "output_type": "stream",
     "text": [
      "313/313 [==============================] - 1s 3ms/step - loss: 0.1590 - accuracy: 0.9528\n",
      "\n",
      "SGD\n",
      "Test loss: 0.15897515416145325\n",
      "Test accuracy: 0.9527999758720398\n",
      "-----------------------------------------------------------------------------------------------\n",
      "313/313 [==============================] - 1s 3ms/step - loss: 0.1642 - accuracy: 0.9731\n",
      "\n",
      "RMSprop\n",
      "Test loss: 0.16424623131752014\n",
      "Test accuracy: 0.9731000065803528\n",
      "-----------------------------------------------------------------------------------------------\n",
      "313/313 [==============================] - 1s 3ms/step - loss: 0.0772 - accuracy: 0.9793\n",
      "\n",
      "Adam\n",
      "Test loss: 0.07721760123968124\n",
      "Test accuracy: 0.9793000221252441\n",
      "-----------------------------------------------------------------------------------------------\n",
      "313/313 [==============================] - 1s 3ms/step - loss: 0.0849 - accuracy: 0.9779\n",
      "\n",
      "Nadam\n",
      "Test loss: 0.08493251353502274\n",
      "Test accuracy: 0.9779000282287598\n",
      "-----------------------------------------------------------------------------------------------\n",
      "313/313 [==============================] - 2s 6ms/step - loss: 0.3196 - accuracy: 0.9160\n",
      "\n",
      "Adagrad\n",
      "Test loss: 0.3195785880088806\n",
      "Test accuracy: 0.9160000085830688\n",
      "-----------------------------------------------------------------------------------------------\n",
      "313/313 [==============================] - 1s 3ms/step - loss: 1.4872 - accuracy: 0.7298\n",
      "\n",
      "Adadelta\n",
      "Test loss: 1.487212061882019\n",
      "Test accuracy: 0.7297999858856201\n",
      "-----------------------------------------------------------------------------------------------\n",
      "313/313 [==============================] - 1s 3ms/step - loss: 0.0790 - accuracy: 0.9740\n",
      "\n",
      "Adamax\n",
      "Test loss: 0.0789996013045311\n",
      "Test accuracy: 0.9739999771118164\n",
      "-----------------------------------------------------------------------------------------------\n"
     ]
    }
   ],
   "source": [
    "# WARNING: EXECUTING THIS CELL TAKES A LONG TIME !!!\n",
    "\n",
    "# Function for compiling the same DNN with different optimizers:\n",
    "\n",
    "def compile_model_opt(optim):\n",
    "    model=create_DNN()\n",
    "    model.compile(loss=categorical_crossentropy,\n",
    "                  optimizer=optim,\n",
    "                  metrics=['accuracy'])\n",
    "    return model\n",
    "\n",
    "# Reshaping the input vector for new trainings:\n",
    "X_test = X_test.reshape(X_test.shape[0], img_rows*img_cols)\n",
    "\n",
    "# Fixed training parameters:\n",
    "batch = 32\n",
    "n_epochs = 5\n",
    "\n",
    "# ----------------------------------------------------------------\n",
    "\n",
    "# Initilizing some optimizers with default parameters:\n",
    "\n",
    "opt_names = ('SGD', 'RMSprop', 'Adam', 'Nadam', 'Adagrad', 'Adadelta', 'Adamax')\n",
    "optimizers = (SGD(), RMSprop(), Adam(), Nadam(), Adagrad(), Adadelta(), Adamax())\n",
    "\n",
    "# Cycling over different models, with different optimizers:\n",
    "\n",
    "for i in range(len(optimizers)):\n",
    "    model_DNN = compile_model_opt(optimizers[i])\n",
    "    history = model_DNN.fit(X_train, Y_train,\n",
    "              batch_size=batch, epochs=n_epochs,\n",
    "              validation_data=(X_test, Y_test),\n",
    "              verbose=0)\n",
    "    score = model_DNN.evaluate(X_test, Y_test, verbose=1)\n",
    "    print()\n",
    "    print(opt_names[i])\n",
    "    print('Test loss:', score[0])\n",
    "    print('Test accuracy:', score[1])\n",
    "    print(\"-----------------------------------------------------------------------------------------------\")"
   ]
  },
  {
   "cell_type": "markdown",
   "metadata": {},
   "source": [
    "From the statistics above we see that the best optimizers, *minimizing the loss* and *maximizing the accuracy*, are:\n",
    "\n",
    "- *Adam*;\n",
    "- *Nadam*;\n",
    "- *Adamax*;\n",
    "\n",
    "For the construction of our CNN we can choose any of the above; we are going to adopt *Adamax*."
   ]
  },
  {
   "cell_type": "markdown",
   "metadata": {},
   "source": [
    "## 12.2 Building a CNN"
   ]
  },
  {
   "cell_type": "markdown",
   "metadata": {},
   "source": [
    "We know treat the same problem using a CNN structure. In this new framework, we can take advantage of the *translational invariance* of the hand-written digit pictures to improve the accuracy of our classification model. In order to work with a CNN  we first need to reshape the training and test input data sets as follows:"
   ]
  },
  {
   "cell_type": "code",
   "execution_count": 10,
   "metadata": {},
   "outputs": [
    {
     "name": "stdout",
     "output_type": "stream",
     "text": [
      "X_train shape: (60000, 28, 28, 1)\n",
      "Y_train shape: (60000, 10)\n",
      "\n",
      "60000 train samples\n",
      "10000 test samples\n"
     ]
    }
   ],
   "source": [
    "# reshape data, depending on Keras backend:\n",
    "if keras.backend.image_data_format() == 'channels_first':\n",
    "    X_train = X_train.reshape(X_train.shape[0], 1, img_rows, img_cols)\n",
    "    X_test = X_test.reshape(X_test.shape[0], 1, img_rows, img_cols)\n",
    "    input_shape = (1, img_rows, img_cols)\n",
    "else:\n",
    "    X_train = X_train.reshape(X_train.shape[0], img_rows, img_cols, 1)\n",
    "    X_test = X_test.reshape(X_test.shape[0], img_rows, img_cols, 1)\n",
    "    input_shape = (img_rows, img_cols, 1)\n",
    "    \n",
    "print('X_train shape:', X_train.shape)\n",
    "print('Y_train shape:', Y_train.shape)\n",
    "print()\n",
    "print(X_train.shape[0], 'train samples')\n",
    "print(X_test.shape[0], 'test samples')"
   ]
  },
  {
   "cell_type": "markdown",
   "metadata": {},
   "source": [
    "To build a CNN we need the following new ingredients:\n",
    "\n",
    "- *Convolutional layers*: they compute convolutions of the input with a series of *filters*, *maintaining the spatial structure of information*. Implementation using `Conv2D`;\n",
    "- *Pooling layers*: they *corase-grain* the input, reducing the information size but *preserving the locality*. Implementation using `MaxPooling2D`;\n",
    "- *Flattening layers*: densely connected layers used to \"unroll\" output informations and create a classification matrix. Implementation using `Flatten`."
   ]
  },
  {
   "cell_type": "code",
   "execution_count": 11,
   "metadata": {},
   "outputs": [],
   "source": [
    "from tensorflow.keras.layers import Flatten, Conv2D, MaxPooling2D"
   ]
  },
  {
   "cell_type": "markdown",
   "metadata": {},
   "source": [
    "We also make use, in analogy with the DNN previously built, of a `Dropout` layer, to avoid overfitting and *improve the adaptability* of our CNN, and of a final `soft-max` activation layer, to *normalize the output* (we want to obtain the *probability* that a given image matches a specific digit). \n",
    "\n",
    "As optimizer we adopt the `Adamax` and, as usual in classification problems, the `categorical_crossentropy` as loss function. In the following cell we implement the construction of the CNN:"
   ]
  },
  {
   "cell_type": "code",
   "execution_count": 12,
   "metadata": {},
   "outputs": [],
   "source": [
    "def create_CNN():\n",
    "    # Initialize a sequential model:\n",
    "    model = Sequential()\n",
    "    # Add a first convolutional layer with 'num_classes' filters, followed by a 2x2 pooling layer:\n",
    "    model.add(Conv2D(num_classes, kernel_size=(5,5), activation='relu', input_shape=input_shape))\n",
    "    model.add(MaxPooling2D(pool_size=(2,2)))\n",
    "    # Add a second convolutional layer with 16 filters, followed by a 2x2 pooling layer:\n",
    "    model.add(Conv2D(16, kernel_size=(5,5)))\n",
    "    model.add(MaxPooling2D(pool_size=(2,2)))\n",
    "    # Add the flatten layer followed by a densly connected layer with plateau activation function:\n",
    "    model.add(Flatten())\n",
    "    model.add(Dense(256, activation='tanh'))\n",
    "    # Add dropout to improve adaptability:\n",
    "    model.add(Dropout(0.5))\n",
    "    # Add the final layer with the cardinality of the output ad \"soft-max\" normalization\n",
    "    model.add(Dense(num_classes, activation='softmax'))\n",
    "    \n",
    "    # Compile the model using 'Adamax' optimizer:\n",
    "    model.compile(loss=categorical_crossentropy, optimizer='Adamax', metrics=['accuracy'])\n",
    "    \n",
    "    return model"
   ]
  },
  {
   "cell_type": "markdown",
   "metadata": {},
   "source": [
    "We can now train our new CNN:"
   ]
  },
  {
   "cell_type": "code",
   "execution_count": 13,
   "metadata": {},
   "outputs": [
    {
     "name": "stdout",
     "output_type": "stream",
     "text": [
      "Epoch 1/5\n",
      "1875/1875 [==============================] - 38s 21ms/step - loss: 0.2612 - accuracy: 0.9237 - val_loss: 0.0885 - val_accuracy: 0.9722\n",
      "Epoch 2/5\n",
      "1875/1875 [==============================] - 44s 24ms/step - loss: 0.1053 - accuracy: 0.9685 - val_loss: 0.0669 - val_accuracy: 0.9789\n",
      "Epoch 3/5\n",
      "1875/1875 [==============================] - 79s 42ms/step - loss: 0.0816 - accuracy: 0.9755 - val_loss: 0.0507 - val_accuracy: 0.9846\n",
      "Epoch 4/5\n",
      "1875/1875 [==============================] - 89s 47ms/step - loss: 0.0694 - accuracy: 0.9785 - val_loss: 0.0474 - val_accuracy: 0.9862\n",
      "Epoch 5/5\n",
      "1875/1875 [==============================] - 74s 40ms/step - loss: 0.0617 - accuracy: 0.9811 - val_loss: 0.0412 - val_accuracy: 0.9874\n"
     ]
    }
   ],
   "source": [
    "# training parameters:\n",
    "batch = 32\n",
    "n_epochs = 5\n",
    "\n",
    "# create the CNN:\n",
    "model_CNN = create_CNN()\n",
    "\n",
    "# train the CNN and store training info in history: \n",
    "history = model_CNN.fit(X_train, Y_train,\n",
    "          batch_size=batch, epochs=n_epochs,\n",
    "          validation_data=(X_test, Y_test),\n",
    "          verbose=1)"
   ]
  },
  {
   "cell_type": "markdown",
   "metadata": {},
   "source": [
    "We check the performances and study the loss-accuracy history:"
   ]
  },
  {
   "cell_type": "code",
   "execution_count": 14,
   "metadata": {},
   "outputs": [
    {
     "name": "stdout",
     "output_type": "stream",
     "text": [
      "313/313 [==============================] - 2s 8ms/step - loss: 0.0412 - accuracy: 0.9874\n",
      "\n",
      "Test loss: 0.04117696359753609\n",
      "Test accuracy: 0.9873999953269958\n"
     ]
    },
    {
     "data": {
      "text/plain": [
       "<matplotlib.legend.Legend at 0x7f776846abd0>"
      ]
     },
     "execution_count": 14,
     "metadata": {},
     "output_type": "execute_result"
    },
    {
     "data": {
      "image/png": "[encoded data removed]",
      "text/plain": [
       "<Figure size 931.988x576 with 2 Axes>"
      ]
     },
     "metadata": {
      "needs_background": "light"
     },
     "output_type": "display_data"
    }
   ],
   "source": [
    "# evaluate teh goodness of the model:\n",
    "score = model_CNN.evaluate(X_test, Y_test, verbose=1)\n",
    "\n",
    "# print performances: \n",
    "print()\n",
    "print('Test loss:', score[0])\n",
    "print('Test accuracy:', score[1])\n",
    "\n",
    "# look into training history for accuracy and losses:\n",
    "\n",
    "fig, ((acc),(loss)) = plt.subplots(1,2, figsize=FIG_SIZE)\n",
    "fig.suptitle(\"Training history\", fontsize=22)\n",
    "\n",
    "acc.plot(history.history['accuracy'])\n",
    "acc.plot(history.history['val_accuracy'])\n",
    "acc.set_ylabel('model accuracy')\n",
    "acc.set_xlabel('epoch')\n",
    "acc.legend(['train', 'test'], loc='best')\n",
    "\n",
    "loss.plot(history.history['loss'])\n",
    "loss.plot(history.history['val_loss'])\n",
    "loss.set_ylabel('model loss')\n",
    "loss.set_xlabel('epoch')\n",
    "loss.legend(['train', 'test'], loc='best')"
   ]
  },
  {
   "cell_type": "markdown",
   "metadata": {},
   "source": [
    "Finally, we test how the CNN reacts to the task of recognition of digit pictures from the test data set:"
   ]
  },
  {
   "cell_type": "code",
   "execution_count": 15,
   "metadata": {},
   "outputs": [
    {
     "data": {
      "image/png": "[encoded data removed]",
      "text/plain": [
       "<Figure size 1080x1080 with 10 Axes>"
      ]
     },
     "metadata": {
      "needs_background": "light"
     },
     "output_type": "display_data"
    }
   ],
   "source": [
    "predictions = model_CNN.predict(X_test)\n",
    "\n",
    "X_test = X_test.reshape(X_test.shape[0], img_rows, img_cols, 1)\n",
    "\n",
    "plt.figure(figsize=(15, 15)) \n",
    "for i in range(10):    \n",
    "    ax = plt.subplot(2, 10, i + 1)    \n",
    "    plt.imshow(X_test[i, :, :, 0], cmap='gray')    \n",
    "    plt.title(\"Digit: {}\\nPredicted: {}\".format(np.argmax(Y_test[i]), np.argmax(predictions[i])))    \n",
    "    plt.axis('off') \n",
    "plt.show()"
   ]
  },
  {
   "cell_type": "markdown",
   "metadata": {},
   "source": [
    "*Our CNN scored $100\\%$ in the recognition task!* The loss and accuracy history shows the usual gap between train and test sessions, due to the presence of a *dropout* layer. Comparing the global test loss and accuracy (look just on top of the \"Training history\" plots!), the CNN built performs slightly better than the DNN."
   ]
  },
  {
   "cell_type": "markdown",
   "metadata": {},
   "source": [
    "## 12.3 The prediction ability"
   ]
  },
  {
   "cell_type": "markdown",
   "metadata": {},
   "source": [
    "We take a step forward, testing our CNN with *unseen handwritten digits*, generated using the `gimp` application and a graphic tablet. In the following cell we import the pictures of the digits and we reshape the data to work with a CNN:"
   ]
  },
  {
   "cell_type": "code",
   "execution_count": 16,
   "metadata": {},
   "outputs": [],
   "source": [
    "from PIL import Image\n",
    "import os\n",
    "\n",
    "# 10 digits input files:\n",
    "Digits_files = (\"./Digit_0.png\", \"./Digit_1.png\", \"./Digit_2.png\", \"./Digit_3.png\", \"./Digit_4.png\", \n",
    "                \"./Digit_5.png\", \"./Digit_6.png\", \"./Digit_7.png\", \"./Digit_8.png\", \"./Digit_9.png\")\n",
    "\n",
    "# 10 digits images storage:\n",
    "x_dim = 28\n",
    "y_dim = 28\n",
    "Digits = np.zeros((10, x_dim, y_dim))\n",
    "\n",
    "# Import cicle:\n",
    "\n",
    "for i in range(len(Digits_files)):\n",
    "    file = Digits_files[i]\n",
    "    Input = Image.open(file).convert('L')\n",
    "    pix = Input.load();\n",
    "    for j in range(x_dim):\n",
    "        for k in range(y_dim):\n",
    "            Digits[i, j,k] = pix[k,j]/255\n",
    "            \n",
    "# reshaping data to work with a CNN:\n",
    "\n",
    "if keras.backend.image_data_format() == 'channels_first':\n",
    "    Digits = Digits.reshape(Digits.shape[0], 1, img_rows, img_cols)\n",
    "    input_shape = (1, img_rows, img_cols)\n",
    "else:\n",
    "    Digits = Digits.reshape(Digits.shape[0], img_rows, img_cols, 1)\n",
    "    input_shape = (img_rows, img_cols, 1)"
   ]
  },
  {
   "cell_type": "markdown",
   "metadata": {},
   "source": [
    "We can now test how the network reacts to the new data set, containing a different handwriting:"
   ]
  },
  {
   "cell_type": "code",
   "execution_count": 17,
   "metadata": {},
   "outputs": [
    {
     "data": {
      "image/png": "[encoded data removed]",
      "text/plain": [
       "<Figure size 1080x1080 with 10 Axes>"
      ]
     },
     "metadata": {
      "needs_background": "light"
     },
     "output_type": "display_data"
    }
   ],
   "source": [
    "predictions = model_CNN.predict(Digits)\n",
    "\n",
    "plt.figure(figsize=(15, 15)) \n",
    "for i in range(10):    \n",
    "    ax = plt.subplot(2, 10, i + 1)    \n",
    "    plt.imshow(Digits[i, :, :, 0], cmap='gray')    \n",
    "    plt.title(\"Predicted: {}\".format(np.argmax(predictions[i])))    \n",
    "    plt.axis('off') \n",
    "plt.show()"
   ]
  },
  {
   "cell_type": "markdown",
   "metadata": {},
   "source": [
    "*The CNN scored only $70\\%$ this time!*. How can we explain the difference with the previous $100\\%$ score? We can conjecture that the NN is not complex enough to perform a *deep learning*: if we change some characteristics of a digit, the NN is not able to recognize it anymore. Comparing for example the 7 digit written by me and the corresponding digit of the validation data set from MNIST, we see that the number 7 is not witten with the half bar in the MNIST data set!"
   ]
  }
 ],
 "metadata": {
  "kernelspec": {
   "display_name": "Python 3",
   "language": "python",
   "name": "python3"
  },
  "language_info": {
   "codemirror_mode": {
    "name": "ipython",
    "version": 3
   },
   "file_extension": ".py",
   "mimetype": "text/x-python",
   "name": "python",
   "nbconvert_exporter": "python",
   "pygments_lexer": "ipython3",
   "version": "3.7.4"
  }
 },
 "nbformat": 4,
 "nbformat_minor": 2
}
