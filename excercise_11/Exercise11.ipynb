{
 "cells": [
  {
   "cell_type": "markdown",
   "metadata": {},
   "source": [
    "# Exercise 11"
   ]
  },
  {
   "cell_type": "code",
   "execution_count": 34,
   "metadata": {},
   "outputs": [],
   "source": [
    "# Settings and libraries:\n",
    "\n",
    "import numpy as np\n",
    "import matplotlib.pyplot as plt\n",
    "\n",
    "import matplotlib as mpl\n",
    "mpl.rcParams['axes.titlesize'] = 18\n",
    "mpl.rcParams['axes.labelsize'] = 16\n",
    "mpl.rcParams['legend.fontsize'] = 14\n",
    "mpl.rcParams['lines.linewidth'] = 2\n",
    "mpl.rcParams['xtick.labelsize'] = 12\n",
    "mpl.rcParams['ytick.labelsize'] = 12\n",
    "mpl.rcParams['axes.spines.right'] = False\n",
    "mpl.rcParams['axes.spines.top'] = False\n",
    "SCALE = 5\n",
    "FIG_SIZE = (SCALE*0.5*(1+np.sqrt(5)),SCALE)\n",
    "\n",
    "# Machine Learning libraries\n",
    "\n",
    "import tensorflow as tf\n",
    "from tensorflow import keras\n",
    "\n",
    "from tensorflow.keras.models import Sequential\n",
    "from tensorflow.keras.layers import Dense, Activation\n",
    "from tensorflow.keras import backend as K\n",
    "from tensorflow.keras.utils import get_custom_objects"
   ]
  },
  {
   "cell_type": "markdown",
   "metadata": {},
   "source": [
    "## Linear fit"
   ]
  },
  {
   "cell_type": "code",
   "execution_count": 53,
   "metadata": {},
   "outputs": [],
   "source": [
    "# linear regression parameters:\n",
    "\n",
    "m = 2          # slope\n",
    "q = 1          # intercept\n",
    "x_low = -1     # lower bound \n",
    "x_up = 1       # upper bound\n",
    "\n",
    "# training dataset and validation dataset parameters:\n",
    "\n",
    "N_train = 1000    # training points\n",
    "N_val = 100       # validation points\n",
    "sigma = 0.3      # noise stdev"
   ]
  },
  {
   "cell_type": "code",
   "execution_count": 54,
   "metadata": {},
   "outputs": [],
   "source": [
    "# generate training inputs:\n",
    "\n",
    "np.random.seed(0)\n",
    "x_train = np.random.uniform(x_low, x_up, N_train)\n",
    "x_valid = np.random.uniform(x_low, x_up, N_val)\n",
    "x_valid.sort()\n",
    "\n",
    "# target linear function\n",
    "y_target = m * x_valid + q\n",
    "\n",
    "# actual measures with the presence of noise\n",
    "y_train = np.random.normal(m * x_train + q, sigma)\n",
    "y_valid = np.random.normal(m * x_valid + q, sigma)"
   ]
  },
  {
   "cell_type": "code",
   "execution_count": 55,
   "metadata": {},
   "outputs": [
    {
     "data": {
      "image/png": "[encoded data removed]",
      "text/plain": [
       "<Figure size 582.492x360 with 1 Axes>"
      ]
     },
     "metadata": {
      "needs_background": "light"
     },
     "output_type": "display_data"
    }
   ],
   "source": [
    "plt.figure(figsize=FIG_SIZE)\n",
    "plt.plot(x_valid, y_target)\n",
    "plt.scatter(x_valid, y_valid, color='r')\n",
    "plt.grid(True)\n",
    "plt.show()"
   ]
  },
  {
   "cell_type": "code",
   "execution_count": 56,
   "metadata": {},
   "outputs": [
    {
     "name": "stdout",
     "output_type": "stream",
     "text": [
      "Model: \"sequential_4\"\n",
      "_________________________________________________________________\n",
      "Layer (type)                 Output Shape              Param #   \n",
      "=================================================================\n",
      "dense_4 (Dense)              (None, 1)                 2         \n",
      "=================================================================\n",
      "Total params: 2\n",
      "Trainable params: 2\n",
      "Non-trainable params: 0\n",
      "_________________________________________________________________\n"
     ]
    }
   ],
   "source": [
    "# NN construction:\n",
    "\n",
    "model = tf.keras.Sequential()\n",
    "model.add(Dense(1, input_shape=(1,)))\n",
    "\n",
    "# Model compilation:\n",
    "\n",
    "model.compile(optimizer='sgd', loss='mse', metrics=['mse'])\n",
    "model.summary()"
   ]
  },
  {
   "cell_type": "code",
   "execution_count": 57,
   "metadata": {},
   "outputs": [
    {
     "name": "stdout",
     "output_type": "stream",
     "text": [
      "Epoch 1/30\n",
      "32/32 [==============================] - 0s 7ms/step - loss: 0.7040 - mse: 0.7040 - val_loss: 0.3957 - val_mse: 0.3957\n",
      "Epoch 2/30\n",
      "32/32 [==============================] - 0s 4ms/step - loss: 0.2711 - mse: 0.2711 - val_loss: 0.1817 - val_mse: 0.1817\n",
      "Epoch 3/30\n",
      "32/32 [==============================] - 0s 3ms/step - loss: 0.1449 - mse: 0.1449 - val_loss: 0.1176 - val_mse: 0.1176\n",
      "Epoch 4/30\n",
      "32/32 [==============================] - 0s 4ms/step - loss: 0.1075 - mse: 0.1075 - val_loss: 0.0968 - val_mse: 0.0968\n",
      "Epoch 5/30\n",
      "32/32 [==============================] - 0s 5ms/step - loss: 0.0955 - mse: 0.0955 - val_loss: 0.0878 - val_mse: 0.0878\n",
      "Epoch 6/30\n",
      "32/32 [==============================] - 0s 6ms/step - loss: 0.0907 - mse: 0.0907 - val_loss: 0.0833 - val_mse: 0.0833\n",
      "Epoch 7/30\n",
      "32/32 [==============================] - 0s 3ms/step - loss: 0.0885 - mse: 0.0885 - val_loss: 0.0805 - val_mse: 0.0805\n",
      "Epoch 8/30\n",
      "32/32 [==============================] - 0s 5ms/step - loss: 0.0872 - mse: 0.0872 - val_loss: 0.0786 - val_mse: 0.0786\n",
      "Epoch 9/30\n",
      "32/32 [==============================] - 0s 5ms/step - loss: 0.0865 - mse: 0.0865 - val_loss: 0.0773 - val_mse: 0.0773\n",
      "Epoch 10/30\n",
      "32/32 [==============================] - 0s 5ms/step - loss: 0.0861 - mse: 0.0861 - val_loss: 0.0764 - val_mse: 0.0764\n",
      "Epoch 11/30\n",
      "32/32 [==============================] - 0s 5ms/step - loss: 0.0858 - mse: 0.0858 - val_loss: 0.0759 - val_mse: 0.0759\n",
      "Epoch 12/30\n",
      "32/32 [==============================] - 0s 6ms/step - loss: 0.0857 - mse: 0.0857 - val_loss: 0.0755 - val_mse: 0.0755\n",
      "Epoch 13/30\n",
      "32/32 [==============================] - 0s 5ms/step - loss: 0.0856 - mse: 0.0856 - val_loss: 0.0751 - val_mse: 0.0751\n",
      "Epoch 14/30\n",
      "32/32 [==============================] - 0s 5ms/step - loss: 0.0854 - mse: 0.0854 - val_loss: 0.0747 - val_mse: 0.0747\n",
      "Epoch 15/30\n",
      "32/32 [==============================] - 0s 5ms/step - loss: 0.0854 - mse: 0.0854 - val_loss: 0.0746 - val_mse: 0.0746\n",
      "Epoch 16/30\n",
      "32/32 [==============================] - 0s 6ms/step - loss: 0.0854 - mse: 0.0854 - val_loss: 0.0744 - val_mse: 0.0744\n",
      "Epoch 17/30\n",
      "32/32 [==============================] - 0s 6ms/step - loss: 0.0854 - mse: 0.0854 - val_loss: 0.0743 - val_mse: 0.0743\n",
      "Epoch 18/30\n",
      "32/32 [==============================] - 0s 6ms/step - loss: 0.0854 - mse: 0.0854 - val_loss: 0.0741 - val_mse: 0.0741\n",
      "Epoch 19/30\n",
      "32/32 [==============================] - 0s 5ms/step - loss: 0.0854 - mse: 0.0854 - val_loss: 0.0741 - val_mse: 0.0741\n",
      "Epoch 20/30\n",
      "32/32 [==============================] - 0s 7ms/step - loss: 0.0853 - mse: 0.0853 - val_loss: 0.0740 - val_mse: 0.0740\n",
      "Epoch 21/30\n",
      "32/32 [==============================] - 0s 8ms/step - loss: 0.0853 - mse: 0.0853 - val_loss: 0.0740 - val_mse: 0.0740\n",
      "Epoch 22/30\n",
      "32/32 [==============================] - 0s 7ms/step - loss: 0.0854 - mse: 0.0854 - val_loss: 0.0740 - val_mse: 0.0740\n",
      "Epoch 23/30\n",
      "32/32 [==============================] - 0s 6ms/step - loss: 0.0854 - mse: 0.0854 - val_loss: 0.0739 - val_mse: 0.0739\n",
      "Epoch 24/30\n",
      "32/32 [==============================] - 0s 5ms/step - loss: 0.0854 - mse: 0.0854 - val_loss: 0.0739 - val_mse: 0.0739\n",
      "Epoch 25/30\n",
      "32/32 [==============================] - 0s 7ms/step - loss: 0.0854 - mse: 0.0854 - val_loss: 0.0739 - val_mse: 0.0739\n",
      "Epoch 26/30\n",
      "32/32 [==============================] - 0s 7ms/step - loss: 0.0854 - mse: 0.0854 - val_loss: 0.0737 - val_mse: 0.0737\n",
      "Epoch 27/30\n",
      "32/32 [==============================] - 0s 6ms/step - loss: 0.0854 - mse: 0.0854 - val_loss: 0.0738 - val_mse: 0.0738\n",
      "Epoch 28/30\n",
      "32/32 [==============================] - 0s 8ms/step - loss: 0.0853 - mse: 0.0853 - val_loss: 0.0738 - val_mse: 0.0738\n",
      "Epoch 29/30\n",
      "32/32 [==============================] - 0s 8ms/step - loss: 0.0854 - mse: 0.0854 - val_loss: 0.0738 - val_mse: 0.0738\n",
      "Epoch 30/30\n",
      "32/32 [==============================] - 0s 9ms/step - loss: 0.0853 - mse: 0.0853 - val_loss: 0.0738 - val_mse: 0.0738\n"
     ]
    }
   ],
   "source": [
    "# fit the model using training dataset: we will try to change the batch size and the epochs number\n",
    "# over 10 epochs of 32 batch size each\n",
    "# report training progress against validation data\n",
    "\n",
    "batch = 32\n",
    "epoch = 30\n",
    "history = model.fit(x=x_train, y=y_train, \n",
    "          batch_size=batch, epochs=epoch,\n",
    "          shuffle=True,\n",
    "          validation_data=(x_valid, y_valid))"
   ]
  },
  {
   "cell_type": "code",
   "execution_count": 58,
   "metadata": {},
   "outputs": [
    {
     "data": {
      "text/plain": [
       "[array([[2.0035598]], dtype=float32), array([1.0041878], dtype=float32)]"
      ]
     },
     "execution_count": 58,
     "metadata": {},
     "output_type": "execute_result"
    }
   ],
   "source": [
    "# get the fit parameters:\n",
    "model.get_weights()"
   ]
  },
  {
   "cell_type": "code",
   "execution_count": 59,
   "metadata": {},
   "outputs": [
    {
     "name": "stdout",
     "output_type": "stream",
     "text": [
      "4/4 [==============================] - 0s 2ms/step - loss: 0.0738 - mse: 0.0738\n",
      "\n",
      "Test loss: 0.07382414489984512\n",
      "Test accuracy: 0.07382414489984512\n"
     ]
    }
   ],
   "source": [
    "# evaluate the goodness of the model:\n",
    "\n",
    "score = model.evaluate(x_valid, y_valid, batch_size=32, verbose=1)\n",
    "\n",
    "# print performance:\n",
    "\n",
    "print()\n",
    "print('Test loss:', score[0])\n",
    "print('Test accuracy:', score[1])"
   ]
  },
  {
   "cell_type": "code",
   "execution_count": 60,
   "metadata": {},
   "outputs": [
    {
     "name": "stdout",
     "output_type": "stream",
     "text": [
      "4/4 [==============================] - 0s 4ms/step - loss: 2.1289e-05 - mse: 2.1289e-05\n",
      "\n",
      "Test loss: 2.1289240976329893e-05\n",
      "Test accuracy: 2.1289240976329893e-05\n"
     ]
    }
   ],
   "source": [
    "# evaluate model with the exact curve:\n",
    "\n",
    "score = model.evaluate(x_valid, y_target, batch_size=32, verbose=1)\n",
    "\n",
    "# print performance:\n",
    "\n",
    "print()\n",
    "print('Test loss:', score[0])\n",
    "print('Test accuracy:', score[1])"
   ]
  },
  {
   "cell_type": "code",
   "execution_count": 61,
   "metadata": {},
   "outputs": [
    {
     "data": {
      "image/png": "[encoded data removed]",
      "text/plain": [
       "<Figure size 582.492x360 with 1 Axes>"
      ]
     },
     "metadata": {
      "needs_background": "light"
     },
     "output_type": "display_data"
    }
   ],
   "source": [
    "# look into training history: plot training & validation loss vs epochs:\n",
    "\n",
    "plt.figure(figsize=FIG_SIZE)\n",
    "plt.plot(history.history['loss'])\n",
    "plt.plot(history.history['val_loss'])\n",
    "plt.title('Model loss')\n",
    "plt.ylabel('Loss')\n",
    "plt.xlabel('Epoch')\n",
    "plt.legend(['Train', 'Test'], loc='best')\n",
    "plt.show()"
   ]
  },
  {
   "cell_type": "markdown",
   "metadata": {},
   "source": [
    "## Polinomial fit"
   ]
  },
  {
   "cell_type": "code",
   "execution_count": null,
   "metadata": {},
   "outputs": [],
   "source": []
  },
  {
   "cell_type": "markdown",
   "metadata": {},
   "source": [
    "## Trigonometric fit"
   ]
  },
  {
   "cell_type": "code",
   "execution_count": 2,
   "metadata": {},
   "outputs": [],
   "source": []
  }
 ],
 "metadata": {
  "kernelspec": {
   "display_name": "Python 3",
   "language": "python",
   "name": "python3"
  },
  "language_info": {
   "codemirror_mode": {
    "name": "ipython",
    "version": 3
   },
   "file_extension": ".py",
   "mimetype": "text/x-python",
   "name": "python",
   "nbconvert_exporter": "python",
   "pygments_lexer": "ipython3",
   "version": "3.7.4"
  }
 },
 "nbformat": 4,
 "nbformat_minor": 2
}
